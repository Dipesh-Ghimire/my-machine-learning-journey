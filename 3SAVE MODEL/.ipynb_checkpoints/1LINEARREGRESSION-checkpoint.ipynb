{
 "cells": [
  {
   "cell_type": "code",
   "execution_count": null,
   "id": "a6958b2c",
   "metadata": {},
   "outputs": [],
   "source": [
    "import pandas as pd\n",
    "import numpy as np\n",
    "import matplotlib.pyplot as plt\n",
    "from sklearn import linear_model"
   ]
  },
  {
   "cell_type": "code",
   "execution_count": null,
   "id": "8cdbad36",
   "metadata": {},
   "outputs": [],
   "source": [
    "df = pd.read_csv(\"homeprice.CSV\");\n",
    "df"
   ]
  },
  {
   "cell_type": "code",
   "execution_count": null,
   "id": "b232d8d5",
   "metadata": {},
   "outputs": [],
   "source": [
    "%matplotlib inline\n",
    "plt.xlabel('area(sqr ft)')\n",
    "plt.ylabel('price(US$)')\n",
    "plt.scatter(df.area,df.price,color='red',marker='+')"
   ]
  },
  {
   "cell_type": "code",
   "execution_count": null,
   "id": "eb3ac763",
   "metadata": {},
   "outputs": [],
   "source": [
    "regobj = linear_model.LinearRegression()\n",
    "regobj.fit(df[['area']],df.price)"
   ]
  },
  {
   "cell_type": "code",
   "execution_count": null,
   "id": "091b6b10",
   "metadata": {},
   "outputs": [],
   "source": [
    "regobj.predict([[3300],[3000]])"
   ]
  },
  {
   "cell_type": "code",
   "execution_count": null,
   "id": "e041c6f7",
   "metadata": {},
   "outputs": [],
   "source": [
    "regobj.coef_"
   ]
  },
  {
   "cell_type": "code",
   "execution_count": null,
   "id": "7837609f",
   "metadata": {},
   "outputs": [],
   "source": [
    "regobj.intercept_"
   ]
  },
  {
   "cell_type": "code",
   "execution_count": null,
   "id": "7b55a2c9",
   "metadata": {},
   "outputs": [],
   "source": [
    "df2 = pd.read_csv(\"areas.csv\")"
   ]
  },
  {
   "cell_type": "code",
   "execution_count": null,
   "id": "115a548d",
   "metadata": {},
   "outputs": [],
   "source": [
    "regobj.predict([[5000]])"
   ]
  },
  {
   "cell_type": "code",
   "execution_count": null,
   "id": "e1c5c072",
   "metadata": {},
   "outputs": [],
   "source": []
  }
 ],
 "metadata": {
  "kernelspec": {
   "display_name": "Python 3 (ipykernel)",
   "language": "python",
   "name": "python3"
  },
  "language_info": {
   "codemirror_mode": {
    "name": "ipython",
    "version": 3
   },
   "file_extension": ".py",
   "mimetype": "text/x-python",
   "name": "python",
   "nbconvert_exporter": "python",
   "pygments_lexer": "ipython3",
   "version": "3.10.6"
  }
 },
 "nbformat": 4,
 "nbformat_minor": 5
}
